{
 "cells": [
  {
   "cell_type": "code",
   "execution_count": null,
   "id": "7e6b12c6",
   "metadata": {
    "vscode": {
     "languageId": "plaintext"
    }
   },
   "outputs": [],
   "source": [
    "# G-drive model https://drive.google.com/file/d/1EQzY19bFQXHSXreGVkJO0XwPVkaHtmLw/view?usp=sharing\n",
    "# Simpan model didalam results\n",
    "gdown 1EQzY19bFQXHSXreGVkJO0XwPVkaHtmLw"
   ]
  },
  {
   "cell_type": "code",
   "execution_count": null,
   "id": "0464138b",
   "metadata": {
    "vscode": {
     "languageId": "plaintext"
    }
   },
   "outputs": [],
   "source": [
    "# G-drive dataset https://drive.google.com/file/d/1CciJ9elUl4nsEtC9Qsnnn24JeL7wm8Dq/view?usp=sharing\n",
    "# Simpan dataset didalam dataset\n",
    "gdown 1CciJ9elUl4nsEtC9Qsnnn24JeL7wm8Dq"
   ]
  }
 ],
 "metadata": {
  "language_info": {
   "name": "python"
  }
 },
 "nbformat": 4,
 "nbformat_minor": 5
}
