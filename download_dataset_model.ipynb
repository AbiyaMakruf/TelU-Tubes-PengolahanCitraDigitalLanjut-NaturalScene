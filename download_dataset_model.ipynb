{
 "cells": [
  {
   "cell_type": "code",
   "execution_count": null,
   "id": "7e6b12c6",
   "metadata": {
    "vscode": {
     "languageId": "plaintext"
    }
   },
   "outputs": [],
   "source": [
    "# G-drive model https://drive.google.com/file/d/1EQzY19bFQXHSXreGVkJO0XwPVkaHtmLw/view?usp=sharing\n",
    "# Simpan model didalam results\n",
    "gdown 1EQzY19bFQXHSXreGVkJO0XwPVkaHtmLw"
   ]
  },
  {
   "cell_type": "code",
   "execution_count": null,
   "id": "0464138b",
   "metadata": {
    "vscode": {
     "languageId": "plaintext"
    }
   },
   "outputs": [],
   "source": [
    "# G-drive dataset https://drive.google.com/file/d/1CciJ9elUl4nsEtC9Qsnnn24JeL7wm8Dq/view?usp=sharing\n",
    "# Simpan dataset didalam dataset\n",
    "gdown 1CciJ9elUl4nsEtC9Qsnnn24JeL7wm8Dq"
   ]
  }
 ],
 "metadata": {
  "kernelspec": {
   "display_name": "Python 3 (ipykernel)",
   "language": "python",
   "name": "python3"
  },
  "language_info": {
   "codemirror_mode": {
    "name": "ipython",
    "version": 3
   },
   "file_extension": ".py",
   "mimetype": "text/x-python",
   "name": "python",
   "nbconvert_exporter": "python",
   "pygments_lexer": "ipython3",
   "version": "3.10.16"
  }
 },
 "nbformat": 4,
 "nbformat_minor": 5
}
